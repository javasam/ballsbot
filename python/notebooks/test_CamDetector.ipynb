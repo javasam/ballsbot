{
 "cells": [
  {
   "cell_type": "code",
   "execution_count": null,
   "metadata": {},
   "outputs": [],
   "source": [
    "import ipywidgets.widgets as widgets\n",
    "import sys\n",
    "from matplotlib.backends.backend_agg import FigureCanvasAgg as FigureCanvas\n",
    "from matplotlib.figure import Figure\n",
    "import matplotlib.patches as patches\n",
    "from matplotlib.transforms import Affine2D\n",
    "from io import BytesIO\n",
    "\n",
    "sys.path.append('/home/ballsbot/projects/ballsbot/python/lib')\n",
    "from ballsbot.utils import figsize_from_image_size, keep_rps"
   ]
  },
  {
   "cell_type": "code",
   "execution_count": null,
   "metadata": {},
   "outputs": [],
   "source": [
    "image = widgets.Image(format='jpeg', width=600, height=600)\n",
    "display(image)"
   ]
  },
  {
   "cell_type": "code",
   "execution_count": null,
   "metadata": {},
   "outputs": [],
   "source": [
    "def show_detections(image, detections):\n",
    "    fig = Figure(figsize=figsize_from_image_size(image))\n",
    "    canvas = FigureCanvas(fig)\n",
    "    ax = fig.gca()\n",
    "\n",
    "    for det in detections:\n",
    "        x0 = -max(det['top_left'][0], det['bottom_right'][0])\n",
    "        y0 = -max(det['top_left'][1], det['bottom_right'][1])\n",
    "        h = abs(det['bottom_right'][1] - det['top_left'][1])\n",
    "        w = abs(det['bottom_right'][0] - det['top_left'][0])\n",
    "        rect = patches.Rectangle(\n",
    "            (x0, y0), w, h,\n",
    "            linewidth=2, edgecolor='r', facecolor='none'\n",
    "        )\n",
    "        ax.add_patch(rect)\n",
    "\n",
    "        ax.text(\n",
    "            x0, y0,\n",
    "            '{} ({:0.0f}%)'.format(det['object_class'], det['confidence'] * 100.),\n",
    "            fontsize=10, color='r'\n",
    "        )\n",
    "\n",
    "    ax.set_xlim(-1., 0.)\n",
    "    ax.set_ylim(-1., 0.)\n",
    "    ax.grid(which='both', linestyle='--', alpha=0.5)\n",
    "\n",
    "    canvas.draw()\n",
    "    jpeg = BytesIO()\n",
    "    canvas.print_jpg(jpeg)\n",
    "    image.value = jpeg.getvalue()"
   ]
  },
  {
   "cell_type": "code",
   "execution_count": null,
   "metadata": {},
   "outputs": [],
   "source": [
    "from ballsbot_cpp import ballsbot_cpp"
   ]
  },
  {
   "cell_type": "code",
   "execution_count": null,
   "metadata": {},
   "outputs": [],
   "source": [
    "%%time\n",
    "ballsbot_cpp.startup_detection()"
   ]
  },
  {
   "cell_type": "code",
   "execution_count": null,
   "metadata": {},
   "outputs": [],
   "source": [
    "ts = None\n",
    "while True:\n",
    "    ts = keep_rps(ts, fps=2)\n",
    "    detections = ballsbot_cpp.detect()\n",
    "    show_detections(image, detections)"
   ]
  }
 ],
 "metadata": {
  "kernelspec": {
   "display_name": "Python 3",
   "language": "python",
   "name": "python3"
  },
  "language_info": {
   "codemirror_mode": {
    "name": "ipython",
    "version": 3
   },
   "file_extension": ".py",
   "mimetype": "text/x-python",
   "name": "python",
   "nbconvert_exporter": "python",
   "pygments_lexer": "ipython3",
   "version": "3.6.9"
  }
 },
 "nbformat": 4,
 "nbformat_minor": 4
}
