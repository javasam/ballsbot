{
 "cells": [
  {
   "cell_type": "code",
   "execution_count": null,
   "metadata": {},
   "outputs": [],
   "source": [
    "import ipywidgets.widgets as widgets\n",
    "# import os\n",
    "# os.environ['TF_CPP_MIN_LOG_LEVEL'] = '3'\n",
    "\n",
    "import sys\n",
    "sys.path.append('/home/jumper/projects/ballsbot/lib')\n",
    "from ballsbot.camera import get_images_and_cameras"
   ]
  },
  {
   "cell_type": "code",
   "execution_count": null,
   "metadata": {},
   "outputs": [],
   "source": [
    "from ballsbot.detection.efficientdet import EfficientDet\n",
    "from ballsbot.utils import bgr8_to_jpeg, keep_rps"
   ]
  },
  {
   "cell_type": "code",
   "execution_count": null,
   "metadata": {},
   "outputs": [],
   "source": [
    "from ballsbot.lidar import Lidar\n",
    "from ballsbot.session import start_rospy_session\n",
    "from ballsbot.utils import run_as_thread"
   ]
  },
  {
   "cell_type": "code",
   "execution_count": null,
   "metadata": {},
   "outputs": [],
   "source": [
    "start_rospy_session('a_car')\n",
    "\n",
    "images_composition, cameras = get_images_and_cameras()\n",
    "display(images_composition)\n",
    "\n",
    "lidar_image = widgets.Image(format='jpeg', width=600, height=600)\n",
    "display(lidar_image)\n",
    "\n",
    "front_camera = cameras[1]\n",
    "detected_h, detected_w = front_camera.value.shape[:2]\n",
    "detected_image = widgets.Image(format='jpeg', width=detected_w, height=detected_h)\n",
    "display(detected_image)\n",
    "\n",
    "lidar = Lidar()"
   ]
  },
  {
   "cell_type": "code",
   "execution_count": null,
   "metadata": {
    "scrolled": false
   },
   "outputs": [],
   "source": [
    "lidar.calibrate()\n",
    "\n",
    "def lidar_run():\n",
    "    lidar.show_lidar_cloud(lidar_image)\n",
    "\n",
    "run_as_thread(lidar_run)"
   ]
  },
  {
   "cell_type": "code",
   "execution_count": null,
   "metadata": {},
   "outputs": [],
   "source": [
    "def show_detections():\n",
    "    net = EfficientDet()\n",
    "    ts = None\n",
    "    while True:\n",
    "        ts = keep_rps(ts, fps=0.5)        \n",
    "        detected_image.value = bgr8_to_jpeg(net.draw_predictions(front_camera.value))\n",
    "\n",
    "run_as_thread(show_detections)"
   ]
  },
  {
   "cell_type": "code",
   "execution_count": null,
   "metadata": {},
   "outputs": [],
   "source": [
    "# for cam in cameras:\n",
    "#     cam.stop()"
   ]
  }
 ],
 "metadata": {
  "kernelspec": {
   "display_name": "Python 3",
   "language": "python",
   "name": "python3"
  },
  "language_info": {
   "codemirror_mode": {
    "name": "ipython",
    "version": 3
   },
   "file_extension": ".py",
   "mimetype": "text/x-python",
   "name": "python",
   "nbconvert_exporter": "python",
   "pygments_lexer": "ipython3",
   "version": "3.6.9"
  }
 },
 "nbformat": 4,
 "nbformat_minor": 4
}
