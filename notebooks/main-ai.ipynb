{
 "cells": [
  {
   "cell_type": "code",
   "execution_count": null,
   "metadata": {},
   "outputs": [],
   "source": [
    "import ipywidgets.widgets as widgets\n",
    "from time import sleep\n",
    "\n",
    "import sys\n",
    "sys.path.append('/home/jumper/projects/ballsbot/lib')\n",
    "from ballsbot.utils import keep_rps, run_as_thread\n",
    "from ballsbot.session import start_rospy_session\n",
    "from ballsbot.ai.explorer import Explorer"
   ]
  },
  {
   "cell_type": "code",
   "execution_count": null,
   "metadata": {},
   "outputs": [],
   "source": [
    "# track_image = widgets.Image(format='jpeg', width=800, height=800)\n",
    "# display(track_image)"
   ]
  },
  {
   "cell_type": "code",
   "execution_count": null,
   "metadata": {},
   "outputs": [],
   "source": [
    "start_rospy_session('a_car')\n",
    "bot = Explorer()"
   ]
  },
  {
   "cell_type": "code",
   "execution_count": null,
   "metadata": {},
   "outputs": [],
   "source": [
    "# def update_track():\n",
    "#     sleep(2)\n",
    "#     ts = None\n",
    "#     while True:\n",
    "#         ts = keep_rps(ts, fps=1)\n",
    "#         bot.tracker.update_picture(track_image, only_nearby_meters=12.)\n",
    "\n",
    "# run_as_thread(update_track)"
   ]
  },
  {
   "cell_type": "code",
   "execution_count": null,
   "metadata": {
    "scrolled": true
   },
   "outputs": [],
   "source": [
    "bot.run()"
   ]
  },
  {
   "cell_type": "code",
   "execution_count": null,
   "metadata": {},
   "outputs": [],
   "source": [
    "# from ballsbot.utils import join_all_theads\n",
    "# join_all_theads()"
   ]
  }
 ],
 "metadata": {
  "kernelspec": {
   "display_name": "Python 3",
   "language": "python",
   "name": "python3"
  },
  "language_info": {
   "codemirror_mode": {
    "name": "ipython",
    "version": 3
   },
   "file_extension": ".py",
   "mimetype": "text/x-python",
   "name": "python",
   "nbconvert_exporter": "python",
   "pygments_lexer": "ipython3",
   "version": "3.6.9"
  }
 },
 "nbformat": 4,
 "nbformat_minor": 4
}
